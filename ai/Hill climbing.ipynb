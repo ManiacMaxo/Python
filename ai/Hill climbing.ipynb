{
 "cells": [
  {
   "cell_type": "markdown",
   "metadata": {},
   "source": [
    "# Hill climbing"
   ]
  },
  {
   "cell_type": "code",
   "execution_count": 1,
   "metadata": {},
   "outputs": [],
   "source": [
    "import math\n",
    "import matplotlib.pyplot as plt"
   ]
  },
  {
   "cell_type": "code",
   "execution_count": 2,
   "metadata": {},
   "outputs": [],
   "source": [
    "# Coefs\n",
    "a, b = 2, 1\n",
    "\n",
    "def f(x, a=a, b=b):\n",
    "    return a*x + b\n",
    "\n",
    "x = []\n",
    "for i in range(-10, 10):\n",
    "    x.append(i)\n",
    "    \n",
    "y = []\n",
    "for x_i in x:\n",
    "    y.append(f(x_i))"
   ]
  },
  {
   "cell_type": "code",
   "execution_count": 3,
   "metadata": {},
   "outputs": [
    {
     "data": {
      "image/png": "[encoded data removed]",
      "text/plain": [
       "<Figure size 432x288 with 1 Axes>"
      ]
     },
     "metadata": {
      "needs_background": "dark"
     },
     "output_type": "display_data"
    }
   ],
   "source": [
    "plt.scatter(x, y);"
   ]
  },
  {
   "cell_type": "code",
   "execution_count": 4,
   "metadata": {},
   "outputs": [],
   "source": [
    "a_approx, b_approx = 0, 0\n",
    "\n",
    "def E(a, b):\n",
    "    err = 0\n",
    "    for i in range(20):\n",
    "        err += pow(a * x[i] + b - y[i], 2)\n",
    "    return err;"
   ]
  },
  {
   "cell_type": "code",
   "execution_count": 5,
   "metadata": {},
   "outputs": [],
   "source": [
    "def hill_climb(a_approx, b_approx, eps=0.01, N=1000):\n",
    "    for i in range(N):\n",
    "        e = {}\n",
    "        e[0] = E(a_approx, b_approx) # current\n",
    "        e[1] = E(a_approx - eps, b_approx - eps) # a-eps, b-eps\n",
    "        e[2] = E(a_approx - eps, b_approx + eps) # a-eps, b+eps\n",
    "        e[3] = E(a_approx + eps, b_approx - eps) # a+eps, b-eps\n",
    "        e[4] = E(a_approx + eps, b_approx + eps) # a+eps, b+eps\n",
    "        e = sorted(e.items(), key=lambda x: x[1])\n",
    "        if e[0][1] == 0:\n",
    "            print(i)\n",
    "            break\n",
    "        elif e[0][0] == 1:\n",
    "            a_approx -= eps\n",
    "            b_approx -= eps\n",
    "        elif e[0][0] == 2:\n",
    "            a_approx -= eps\n",
    "            b_approx += eps\n",
    "        elif e[0][0] == 3:\n",
    "            a_approx += eps\n",
    "            b_approx -= eps\n",
    "        elif e[0][0] == 4:\n",
    "            a_approx += eps\n",
    "            b_approx += eps\n",
    "#         eps -= 0.001 / (i + 1)\n",
    "    return E(a_approx, b_approx), a_approx, b_approx"
   ]
  },
  {
   "cell_type": "code",
   "execution_count": 6,
   "metadata": {},
   "outputs": [
    {
     "name": "stdout",
     "output_type": "stream",
     "text": [
      "(1.1108147621643372e-27, 2.0000000000000013, 1.0000000000000007)\n"
     ]
    }
   ],
   "source": [
    "temp = hill_climb(0, 0)\n",
    "print(temp)"
   ]
  }
 ],
 "metadata": {
  "kernelspec": {
   "display_name": "Python 3",
   "language": "python",
   "name": "python3"
  },
  "language_info": {
   "codemirror_mode": {
    "name": "ipython",
    "version": 3
   },
   "file_extension": ".py",
   "mimetype": "text/x-python",
   "name": "python",
   "nbconvert_exporter": "python",
   "pygments_lexer": "ipython3",
   "version": "3.7.5"
  }
 },
 "nbformat": 4,
 "nbformat_minor": 2
}
