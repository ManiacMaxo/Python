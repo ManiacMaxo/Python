{
 "cells": [
  {
   "cell_type": "code",
   "execution_count": 1,
   "metadata": {},
   "outputs": [],
   "source": [
    "import numpy as np"
   ]
  },
  {
   "cell_type": "code",
   "execution_count": 2,
   "metadata": {},
   "outputs": [],
   "source": [
    "np.random.seed(1)"
   ]
  },
  {
   "cell_type": "code",
   "execution_count": 3,
   "metadata": {},
   "outputs": [],
   "source": [
    "def relu(x):\n",
    "    return (x > 0) * x"
   ]
  },
  {
   "cell_type": "code",
   "execution_count": 4,
   "metadata": {},
   "outputs": [],
   "source": [
    "streetlights = np.array([[ 1, 0, 1 ],\n",
    "                        [ 0, 1, 1 ],\n",
    "                        [ 0, 0, 1 ],\n",
    "                        [ 1, 1, 1 ]])\n",
    "\n",
    "walk_stop = np.array([[ 1, 1, 0, 0]]).T\n",
    "\n",
    "alpha = 0.2\n",
    "hidden_size = 4"
   ]
  },
  {
   "cell_type": "code",
   "execution_count": 6,
   "metadata": {},
   "outputs": [],
   "source": [
    "weights = [[], []]\n",
    "weights[0] = 2 * np.random.random((3, hidden_size)) - 1\n",
    "weights[1] = 2 * np.random.random((hidden_size, 1)) - 1\n",
    "\n",
    "layers = [[], [], []]\n",
    "layers[0] = streetlights[0]\n",
    "layers[1] = relu(np.dot(layers[0], weights[0]))\n",
    "layers[2] = np.dot(layers[1], weights[1])\n"
   ]
  },
  {
   "cell_type": "markdown",
   "metadata": {},
   "source": [
    "for i in range(40):\n",
    "    full_error = 0\n",
    "    for index in range(len(walk_stop)):\n",
    "        val = streetlights[index]\n",
    "        goal = walk_stop[index]\n",
    "        \n",
    "        pred = val.dot(weights)\n",
    "        error = (goal - pred) ** 2\n",
    "        full_error += error\n",
    "        \n",
    "        delta = pred - goal\n",
    "        weights -= alpha * (val * delta)\n",
    "AZ"
   ]
  }
 ],
 "metadata": {
  "kernelspec": {
   "display_name": "Python 3",
   "language": "python",
   "name": "python3"
  },
  "language_info": {
   "codemirror_mode": {
    "name": "ipython",
    "version": 3
   },
   "file_extension": ".py",
   "mimetype": "text/x-python",
   "name": "python",
   "nbconvert_exporter": "python",
   "pygments_lexer": "ipython3",
   "version": "3.7.7"
  }
 },
 "nbformat": 4,
 "nbformat_minor": 4
}
