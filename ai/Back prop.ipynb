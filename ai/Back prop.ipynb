{
 "cells": [
  {
   "cell_type": "code",
   "execution_count": 1,
   "metadata": {},
   "outputs": [],
   "source": [
    "import matplotlib.pyplot as plt"
   ]
  },
  {
   "cell_type": "code",
   "execution_count": 2,
   "metadata": {},
   "outputs": [],
   "source": [
    "weight = 0.5\n",
    "input = 0.5\n",
    "goal_pred = 0.8\n",
    "\n",
    "step_amount = 0.01"
   ]
  },
  {
   "cell_type": "markdown",
   "metadata": {},
   "source": [
    "## Hill climb / Hot and Cold learning"
   ]
  },
  {
   "cell_type": "code",
   "execution_count": null,
   "metadata": {},
   "outputs": [],
   "source": [
    "for iteration in range(1101):\n",
    "    prediction = input * weight\n",
    "    error = (goal_prediction - prediction) ** 2\n",
    "    print(\"Error:{}\\tPrediction:{}\".format(error, prediction))\n",
    "    \n",
    "    up_prediction = input * (weight + step_amount)\n",
    "    up_error = (goal_prediction - up_prediction) ** 2\n",
    "    \n",
    "    down_prediction = input * (weight - step_amount)\n",
    "    down_error = (goal_prediction - down_prediction) ** 2\n",
    "    \n",
    "    if(down_error < up_error):\n",
    "        weight = weight - step_amount\n",
    "    if(down_error > up_error):\n",
    "        weight = weight + step_amount"
   ]
  },
  {
   "cell_type": "code",
   "execution_count": null,
   "metadata": {},
   "outputs": [],
   "source": [
    "for i in range(20):\n",
    "    pred = input * weight\n",
    "    error = (pred - goal_pred) ** 2\n",
    "    dir_and_amount = (pred - goal_pred) * input\n",
    "    weight -= dir_and_amount\n",
    "    \n",
    "    print(\"Error: {}\\tPrediction: {}\".format(error, pred))"
   ]
  },
  {
   "cell_type": "code",
   "execution_count": null,
   "metadata": {},
   "outputs": [],
   "source": [
    "weight, goal_pred, input = (0.0, 0.8, 1.1)\n",
    "\n",
    "for i in range(25):\n",
    "    print(\"------\\nWeight: {}\".format(weight))\n",
    "    pred = input * weight\n",
    "    error = (pred - goal_pred) ** 2\n",
    "    delta = pred - goal_pred # how much the prediction missed\n",
    "    weight_delta = delta * input\n",
    "    weight -= weight_delta\n",
    "    print(\"Error: {}\\nPrediction: {}\\nDelta: {}\\nWeight Delta: {}\".format(error, pred, delta, weight_delta))\n"
   ]
  },
  {
   "cell_type": "markdown",
   "metadata": {},
   "source": [
    "## Divergence"
   ]
  },
  {
   "cell_type": "code",
   "execution_count": 1,
   "metadata": {},
   "outputs": [],
   "source": [
    "weight = 0.5\n",
    "goal_pred = 0.8\n",
    "input = 2\n",
    "alpha = 0.1"
   ]
  },
  {
   "cell_type": "code",
   "execution_count": 2,
   "metadata": {},
   "outputs": [
    {
     "name": "stdout",
     "output_type": "stream",
     "text": [
      "Error:0.03999999999999998\tPrediction:1.0\n",
      "Error:0.0144\tPrediction:0.92\n",
      "Error:0.005183999999999993\tPrediction:0.872\n",
      "Error:0.0018662400000000014\tPrediction:0.8432000000000001\n",
      "Error:0.0006718464000000028\tPrediction:0.8259200000000001\n",
      "Error:0.00024186470400000033\tPrediction:0.815552\n",
      "Error:8.70712934399997e-05\tPrediction:0.8093312\n",
      "Error:3.134566563839939e-05\tPrediction:0.80559872\n",
      "Error:1.1284439629823931e-05\tPrediction:0.803359232\n",
      "Error:4.062398266736526e-06\tPrediction:0.8020155392\n",
      "Error:1.4624633760252567e-06\tPrediction:0.8012093235200001\n",
      "Error:5.264868153690924e-07\tPrediction:0.8007255941120001\n",
      "Error:1.8953525353291194e-07\tPrediction:0.8004353564672001\n",
      "Error:6.82326912718715e-08\tPrediction:0.8002612138803201\n",
      "Error:2.456376885786678e-08\tPrediction:0.8001567283281921\n",
      "Error:8.842956788836216e-09\tPrediction:0.8000940369969153\n",
      "Error:3.1834644439835434e-09\tPrediction:0.8000564221981492\n",
      "Error:1.1460471998340758e-09\tPrediction:0.8000338533188895\n",
      "Error:4.125769919393652e-10\tPrediction:0.8000203119913337\n",
      "Error:1.485277170987127e-10\tPrediction:0.8000121871948003\n"
     ]
    }
   ],
   "source": [
    "for i in range(20):\n",
    "    pred = input * weight\n",
    "    error = (pred - goal_pred) ** 2\n",
    "    derivative = input * (pred - goal_pred)\n",
    "    weight -= alpha * derivative\n",
    "    print(\"Error:{}\\tPrediction:{}\".format(error, pred))"
   ]
  }
 ],
 "metadata": {
  "kernelspec": {
   "display_name": "Python 3",
   "language": "python",
   "name": "python3"
  },
  "language_info": {
   "codemirror_mode": {
    "name": "ipython",
    "version": 3
   },
   "file_extension": ".py",
   "mimetype": "text/x-python",
   "name": "python",
   "nbconvert_exporter": "python",
   "pygments_lexer": "ipython3",
   "version": "3.7.6"
  }
 },
 "nbformat": 4,
 "nbformat_minor": 2
}
