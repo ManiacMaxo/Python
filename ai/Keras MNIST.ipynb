{
 "cells": [
  {
   "cell_type": "code",
   "execution_count": 25,
   "metadata": {
    "ExecuteTime": {
     "end_time": "2020-10-15T16:18:38.096738Z",
     "start_time": "2020-10-15T16:18:38.092013Z"
    }
   },
   "outputs": [],
   "source": [
    "from tensorflow.keras.datasets import mnist\n",
    "from tensorflow.keras.models import Sequential\n",
    "from tensorflow.keras.layers import Conv2D, Dense, Flatten, MaxPooling2D, Dropout\n",
    "from tensorflow.keras.utils import to_categorical\n",
    "\n",
    "import numpy as np"
   ]
  },
  {
   "cell_type": "code",
   "execution_count": 8,
   "metadata": {
    "ExecuteTime": {
     "end_time": "2020-10-15T16:08:38.198428Z",
     "start_time": "2020-10-15T16:08:37.934758Z"
    }
   },
   "outputs": [],
   "source": [
    "(train_X, train_y), (test_X, test_y) = mnist.load_data()"
   ]
  },
  {
   "cell_type": "code",
   "execution_count": 9,
   "metadata": {
    "ExecuteTime": {
     "end_time": "2020-10-15T16:08:38.554417Z",
     "start_time": "2020-10-15T16:08:38.380458Z"
    }
   },
   "outputs": [],
   "source": [
    "train_X = train_X.astype('float32') / 255\n",
    "test_X = test_X.astype('float32') / 255\n",
    "\n",
    "\n",
    "train_X = np.expand_dims(train_X, -1)\n",
    "test_X = np.expand_dims(test_X, -1)"
   ]
  },
  {
   "cell_type": "code",
   "execution_count": 21,
   "metadata": {
    "ExecuteTime": {
     "end_time": "2020-10-15T16:13:57.309534Z",
     "start_time": "2020-10-15T16:13:57.235846Z"
    },
    "scrolled": true
   },
   "outputs": [],
   "source": [
    "model = Sequential()\n",
    "model.add(Conv2D(32, kernel_size=(3, 3), activation=\"relu\", input_shape=(28, 28, 1)))\n",
    "model.add(MaxPooling2D(pool_size=(2, 2)))\n",
    "model.add(Conv2D(32, kernel_size=(3, 3), activation=\"relu\"))\n",
    "model.add(MaxPooling2D(pool_size=(2, 2)))\n",
    "model.add(Flatten())\n",
    "# model.add(Dropout(0.5))\n",
    "model.add(Dense(10, activation=\"softmax\"))"
   ]
  },
  {
   "cell_type": "code",
   "execution_count": 27,
   "metadata": {
    "ExecuteTime": {
     "end_time": "2020-10-15T16:27:30.560554Z",
     "start_time": "2020-10-15T16:23:01.371410Z"
    }
   },
   "outputs": [
    {
     "name": "stdout",
     "output_type": "stream",
     "text": [
      "Epoch 1/7\n",
      "422/422 [==============================] - 32s 76ms/step - loss: 0.0382 - accuracy: 0.9884 - val_loss: 0.0387 - val_accuracy: 0.9885\n",
      "Epoch 2/7\n",
      "422/422 [==============================] - 29s 68ms/step - loss: 0.0341 - accuracy: 0.9896 - val_loss: 0.0375 - val_accuracy: 0.9890\n",
      "Epoch 3/7\n",
      "422/422 [==============================] - 32s 76ms/step - loss: 0.0309 - accuracy: 0.9905 - val_loss: 0.0415 - val_accuracy: 0.9887\n",
      "Epoch 4/7\n",
      "422/422 [==============================] - 46s 108ms/step - loss: 0.0259 - accuracy: 0.9924 - val_loss: 0.0369 - val_accuracy: 0.9902\n",
      "Epoch 5/7\n",
      "422/422 [==============================] - 44s 104ms/step - loss: 0.0246 - accuracy: 0.9925 - val_loss: 0.0384 - val_accuracy: 0.9898\n",
      "Epoch 6/7\n",
      "422/422 [==============================] - 43s 103ms/step - loss: 0.0216 - accuracy: 0.9932 - val_loss: 0.0402 - val_accuracy: 0.9883\n",
      "Epoch 7/7\n",
      "422/422 [==============================] - 42s 99ms/step - loss: 0.0190 - accuracy: 0.9943 - val_loss: 0.0376 - val_accuracy: 0.9898\n"
     ]
    },
    {
     "data": {
      "text/plain": [
       "<tensorflow.python.keras.callbacks.History at 0x13f4c21f0>"
      ]
     },
     "execution_count": 27,
     "metadata": {},
     "output_type": "execute_result"
    }
   ],
   "source": [
    "model.compile(loss=\"categorical_crossentropy\", optimizer=\"adam\", metrics=[\"accuracy\"])\n",
    "model.fit(train_X, to_categorical(train_y), batch_size=128, epochs=7, validation_split=0.1)"
   ]
  },
  {
   "cell_type": "code",
   "execution_count": 31,
   "metadata": {
    "ExecuteTime": {
     "end_time": "2020-10-15T16:33:24.161539Z",
     "start_time": "2020-10-15T16:33:22.955043Z"
    }
   },
   "outputs": [],
   "source": [
    "predictions = model.predict(test_X)"
   ]
  },
  {
   "cell_type": "code",
   "execution_count": 34,
   "metadata": {
    "ExecuteTime": {
     "end_time": "2020-10-15T16:33:55.933271Z",
     "start_time": "2020-10-15T16:33:55.926865Z"
    }
   },
   "outputs": [
    {
     "name": "stdout",
     "output_type": "stream",
     "text": [
      "2 2\n"
     ]
    }
   ],
   "source": [
    "print(f'predicted: {np.argmax(predictions[1])}, {test_y[1]'}')"
   ]
  },
  {
   "cell_type": "code",
   "execution_count": null,
   "metadata": {},
   "outputs": [],
   "source": []
  }
 ],
 "metadata": {
  "kernelspec": {
   "display_name": "Python 3",
   "language": "python",
   "name": "python3"
  },
  "language_info": {
   "codemirror_mode": {
    "name": "ipython",
    "version": 3
   },
   "file_extension": ".py",
   "mimetype": "text/x-python",
   "name": "python",
   "nbconvert_exporter": "python",
   "pygments_lexer": "ipython3",
   "version": "3.8.6"
  }
 },
 "nbformat": 4,
 "nbformat_minor": 4
}
