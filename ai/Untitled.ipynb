{
 "cells": [
  {
   "cell_type": "code",
   "execution_count": 1,
   "metadata": {},
   "outputs": [],
   "source": [
    "input = 0.5\n",
    "weight = 0.2\n",
    "goal = 1.3\n",
    "alpha = 0.7"
   ]
  },
  {
   "cell_type": "code",
   "execution_count": 2,
   "metadata": {},
   "outputs": [],
   "source": [
    "def w_sum(a, b):\n",
    "    assert(len(a) == len(b))\n",
    "    output = 0\n",
    "    for i in range(len(a)):\n",
    "        output += a[i] * b[i]\n",
    "        \n",
    "    return output"
   ]
  },
  {
   "cell_type": "code",
   "execution_count": 3,
   "metadata": {},
   "outputs": [],
   "source": [
    "def neural_net(input, weights):\n",
    "    pred = w_sum(input, weights)\n",
    "    return pred"
   ]
  },
  {
   "cell_type": "code",
   "execution_count": 4,
   "metadata": {},
   "outputs": [],
   "source": [
    "toes = [8.5 , 9.5, 9.9, 9.0]\n",
    "wlrec = [0.65, 0.8, 0.8, 0.9]\n",
    "nfans = [1.2 , 1.3, 0.5, 1.0]\n",
    "wl = [1, 1, 0, 1]\n",
    "weights = [0.1, 0.2, -0.1]"
   ]
  },
  {
   "cell_type": "code",
   "execution_count": 5,
   "metadata": {},
   "outputs": [],
   "source": [
    "def ele_mul(number, vector):\n",
    "    output = [0,0,0]\n",
    "    assert(len(vector) == len(output))\n",
    "    for i in range(len(vector)):\n",
    "        output[i] = number * vector[i]\n",
    "    \n",
    "    return output"
   ]
  },
  {
   "cell_type": "code",
   "execution_count": 6,
   "metadata": {},
   "outputs": [],
   "source": [
    "true = wl[0]\n",
    "input = [toes[0], wlrec[0], nfans[0]]\n",
    "alpha = 0.01"
   ]
  },
  {
   "cell_type": "code",
   "execution_count": 8,
   "metadata": {
    "scrolled": true
   },
   "outputs": [
    {
     "name": "stdout",
     "output_type": "stream",
     "text": [
      "---------\n",
      "Iter: 1\n",
      "Pred: 0.8600000000000001\n",
      "Error: 0.01959999999999997\n",
      "Delta: -0.1399999999999999\n",
      "Weights: [0.1, 0.2, -0.1]\n",
      "Weights Deltas: [-1.189999999999999, -0.09099999999999994, -0.16799999999999987]\n",
      "---------\n",
      "Iter: 2\n",
      "Pred: 0.9637574999999999\n",
      "Error: 0.0013135188062500048\n",
      "Delta: -0.036242500000000066\n",
      "Weights: [0.1119, 0.20091, -0.09832]\n",
      "Weights Deltas: [-0.30806125000000056, -0.023557625000000044, -0.04349100000000008]\n",
      "---------\n",
      "Iter: 3\n",
      "Pred: 0.9906177228125002\n",
      "Error: 8.802712522307997e-05\n",
      "Delta: -0.009382277187499843\n",
      "Weights: [0.11498061250000001, 0.20114557625, -0.09788509000000001]\n",
      "Weights Deltas: [-0.07974935609374867, -0.006098480171874899, -0.011258732624999811]\n",
      "---------\n",
      "Iter: 4\n",
      "Pred: 0.997571162993086\n",
      "Error: 5.899249206154892e-06\n",
      "Delta: -0.0024288370069139864\n",
      "Weights: [0.1157781060609375, 0.20120656105171877, -0.09777250267375001]\n",
      "Weights Deltas: [-0.020645114558768884, -0.0015787440544940913, -0.0029146044082967834]\n",
      "---------\n",
      "Iter: 5\n",
      "Pred: 0.9993712348198351\n",
      "Error: 3.953456517877471e-07\n",
      "Delta: -0.0006287651801648586\n",
      "Weights: [0.11598455720652519, 0.20122234849226373, -0.09774335662966704]\n",
      "Weights Deltas: [-0.005344504031401298, -0.0004086973671071581, -0.0007545182161978303]\n"
     ]
    }
   ],
   "source": [
    "for i in range(5):\n",
    "    print(\"---------\")\n",
    "    pred = neural_net(input, weights)\n",
    "    error = (pred - true) ** 2\n",
    "    delta = pred - true\n",
    "    weight_deltas = ele_mul(delta, input)\n",
    "    print(f\"Iter: {i+1}\\nPred: {pred}\\nError: {error}\\nDelta: {delta}\\nWeights: {weights}\\nWeights Deltas: {weight_deltas}\")   \n",
    "    for i in range(len(weights)):\n",
    "        weights[i] -= alpha * weight_deltas[i]\n",
    "    "
   ]
  }
 ],
 "metadata": {
  "kernelspec": {
   "display_name": "Python 3",
   "language": "python",
   "name": "python3"
  },
  "language_info": {
   "codemirror_mode": {
    "name": "ipython",
    "version": 3
   },
   "file_extension": ".py",
   "mimetype": "text/x-python",
   "name": "python",
   "nbconvert_exporter": "python",
   "pygments_lexer": "ipython3",
   "version": "3.7.7"
  }
 },
 "nbformat": 4,
 "nbformat_minor": 2
}
