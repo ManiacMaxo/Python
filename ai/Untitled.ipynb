{
 "cells": [
  {
   "cell_type": "code",
   "execution_count": 1,
   "metadata": {},
   "outputs": [],
   "source": [
    "input = 0.5\n",
    "weight = 0.2\n",
    "goal = 1.3\n",
    "alpha = 0.7"
   ]
  },
  {
   "cell_type": "code",
   "execution_count": 2,
   "metadata": {},
   "outputs": [],
   "source": [
    "def w_sum(a, b):\n",
    "    assert(len(a) == len(b))\n",
    "    output = 0\n",
    "    for i in range(len(a)):\n",
    "        output += a[i] * b[i]\n",
    "        \n",
    "    return output"
   ]
  },
  {
   "cell_type": "code",
   "execution_count": 3,
   "metadata": {},
   "outputs": [],
   "source": [
    "def neural_net(input, weights):\n",
    "    pred = w_sum(input, weights)\n",
    "    return pred"
   ]
  },
  {
   "cell_type": "code",
   "execution_count": 4,
   "metadata": {},
   "outputs": [],
   "source": [
    "toes = [8.5 , 9.5, 9.9, 9.0]\n",
    "wlrec = [0.65, 0.8, 0.8, 0.9]\n",
    "nfans = [1.2 , 1.3, 0.5, 1.0]\n",
    "wl = [1, 1, 0, 1]\n",
    "weights = [0.1, 0.2, -0.1]"
   ]
  },
  {
   "cell_type": "code",
   "execution_count": 5,
   "metadata": {},
   "outputs": [],
   "source": [
    "def ele_mul(number, vector):\n",
    "    output = [0,0,0]\n",
    "    assert(len(vector) == len(output))\n",
    "    for i in range(len(vector)):\n",
    "        output[i] = number * vector[i]\n",
    "    \n",
    "    return output"
   ]
  },
  {
   "cell_type": "code",
   "execution_count": 6,
   "metadata": {},
   "outputs": [],
   "source": [
    "true = wl[0]\n",
    "input = [toes[0], wlrec[0], nfans[0]]\n",
    "alpha = 0.01"
   ]
  },
  {
   "cell_type": "code",
   "execution_count": 12,
   "metadata": {
    "scrolled": true
   },
   "outputs": [
    {
     "name": "stdout",
     "output_type": "stream",
     "text": [
      "---------\n",
      "Iter: 1\n",
      "Pred: 1.0\n",
      "Error: 0.0\n",
      "Delta: 0.0\n",
      "Weights: [0.11605667060212514, 0.2012278630460449, -0.09773317591499411]\n",
      "Weights Deltas: [0.0, 0.0, 0.0]\n",
      "---------\n",
      "Iter: 2\n",
      "Pred: 1.0\n",
      "Error: 0.0\n",
      "Delta: 0.0\n",
      "Weights: [0.11605667060212514, 0.2012278630460449, -0.09773317591499411]\n",
      "Weights Deltas: [0.0, 0.0, 0.0]\n",
      "---------\n",
      "Iter: 3\n",
      "Pred: 1.0\n",
      "Error: 0.0\n",
      "Delta: 0.0\n",
      "Weights: [0.11605667060212514, 0.2012278630460449, -0.09773317591499411]\n",
      "Weights Deltas: [0.0, 0.0, 0.0]\n",
      "---------\n",
      "Iter: 4\n",
      "Pred: 1.0\n",
      "Error: 0.0\n",
      "Delta: 0.0\n",
      "Weights: [0.11605667060212514, 0.2012278630460449, -0.09773317591499411]\n",
      "Weights Deltas: [0.0, 0.0, 0.0]\n",
      "---------\n",
      "Iter: 5\n",
      "Pred: 1.0\n",
      "Error: 0.0\n",
      "Delta: 0.0\n",
      "Weights: [0.11605667060212514, 0.2012278630460449, -0.09773317591499411]\n",
      "Weights Deltas: [0.0, 0.0, 0.0]\n"
     ]
    }
   ],
   "source": [
    "for i in range(5):\n",
    "    print(\"---------\")\n",
    "    pred = neural_net(input, weights)\n",
    "    error = (pred - true) ** 2\n",
    "    delta = pred - true\n",
    "    weight_deltas = ele_mul(delta, input)\n",
    "    print(\"Iter: {}\\nPred: {}\\nError: {}\\nDelta: {}\\nWeights: {}\\nWeights Deltas: {}\".\n",
    "            format(i+1, pred, error , delta, weights, weight_deltas))\n",
    "    for i in range(len(weights)):\n",
    "        weights[i] -= alpha * weight_deltas[i]\n",
    "    "
   ]
  }
 ],
 "metadata": {
  "kernelspec": {
   "display_name": "Python 3",
   "language": "python",
   "name": "python3"
  },
  "language_info": {
   "codemirror_mode": {
    "name": "ipython",
    "version": 3
   },
   "file_extension": ".py",
   "mimetype": "text/x-python",
   "name": "python",
   "nbconvert_exporter": "python",
   "pygments_lexer": "ipython3",
   "version": "3.7.6"
  }
 },
 "nbformat": 4,
 "nbformat_minor": 2
}
