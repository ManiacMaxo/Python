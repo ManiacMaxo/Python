{
 "cells": [
  {
   "cell_type": "markdown",
   "metadata": {},
   "source": [
    "<h1>Nearest Neighbors machine learning algorithm</h1>"
   ]
  },
  {
   "cell_type": "code",
   "execution_count": 1,
   "metadata": {},
   "outputs": [],
   "source": [
    "import matplotlib.pyplot as plt\n",
    "import random\n",
    "from math import sqrt\n",
    "D = 2  # number of dimensions"
   ]
  },
  {
   "cell_type": "code",
   "execution_count": 2,
   "metadata": {},
   "outputs": [],
   "source": [
    "class Point:\n",
    "    def __init__(self, x, y, tof):\n",
    "        self.x = x\n",
    "        self.y = y\n",
    "        self.bool = tof\n",
    "    \n",
    "    def __init__(self, arr, tof):\n",
    "        self.coords = arr\n",
    "        self.bool = tof  # tof = true of false"
   ]
  },
  {
   "cell_type": "markdown",
   "metadata": {},
   "source": [
    "<h3>Euclidean distance from point 1 to point 2 in any number of dimensions</h3>"
   ]
  },
  {
   "cell_type": "code",
   "execution_count": 3,
   "metadata": {},
   "outputs": [],
   "source": [
    "def euclidean_dist(D, p1, p2):\n",
    "    sum = 0\n",
    "    for i in range(D):\n",
    "         sum += (p2.coords[i] - p1.coords[i]) ** 2\n",
    "    return sqrt(sum)"
   ]
  },
  {
   "cell_type": "markdown",
   "metadata": {},
   "source": [
    "<h2>Calculate distance from one point to all others</h2>"
   ]
  },
  {
   "cell_type": "code",
   "execution_count": 4,
   "metadata": {},
   "outputs": [],
   "source": [
    "def distances(D, dataset, comp):\n",
    "    dist = {}\n",
    "    for i in range(len(dataset)):\n",
    "        dist[i] = euclidean_dist(D, comp, dataset[i])\n",
    "    dist = sorted(dist.items(), key=lambda item: item[1])\n",
    "    return dist"
   ]
  },
  {
   "cell_type": "markdown",
   "metadata": {},
   "source": [
    "<h3>First K elements from distances</h3>"
   ]
  },
  {
   "cell_type": "code",
   "execution_count": 5,
   "metadata": {},
   "outputs": [],
   "source": [
    "def nearest_neighbors(k, dataset, comp):\n",
    "    t = 0\n",
    "    f = 0\n",
    "    dist = distances(D, dataset, comp)\n",
    "    temp = []\n",
    "    for i in range(k):\n",
    "        temp.append(dataset[dist[i][0]])\n",
    "        if dataset[dist[i][0]].bool == True:\n",
    "            t += 1\n",
    "        else: f += 1\n",
    "\n",
    "    if t > f:\n",
    "        return True\n",
    "    return False"
   ]
  },
  {
   "cell_type": "markdown",
   "metadata": {},
   "source": [
    "<h3>Main</h3>"
   ]
  },
  {
   "cell_type": "code",
   "execution_count": 6,
   "metadata": {},
   "outputs": [],
   "source": [
    "x = []\n",
    "y = []\n",
    "dataset = []\n",
    "tof = [False, True]\n",
    "for i in range(100): \n",
    "    temp_x = random.uniform(1,50)\n",
    "    temp_y = random.uniform(1,50)\n",
    "    dataset.append(Point((temp_x, temp_y), tof[random.randint(0,1)]))\n",
    "    x.append(dataset[i].coords[0])\n",
    "    y.append(dataset[i].coords[1])"
   ]
  },
  {
   "cell_type": "code",
   "execution_count": 7,
   "metadata": {
    "scrolled": true
   },
   "outputs": [
    {
     "data": {
      "image/png": "[encoded data removed]",
      "text/plain": [
       "<Figure size 432x288 with 1 Axes>"
      ]
     },
     "metadata": {
      "needs_background": "light"
     },
     "output_type": "display_data"
    }
   ],
   "source": [
    "plt.scatter(x, y);"
   ]
  },
  {
   "cell_type": "code",
   "execution_count": 8,
   "metadata": {},
   "outputs": [
    {
     "name": "stdout",
     "output_type": "stream",
     "text": [
      "False\n"
     ]
    }
   ],
   "source": [
    "test = Point([2, 10], False)\n",
    "test.bool = nearest_neighbors(5, dataset, test)\n",
    "print(test.bool)"
   ]
  }
 ],
 "metadata": {
  "kernelspec": {
   "display_name": "Python 3",
   "language": "python",
   "name": "python3"
  },
  "language_info": {
   "codemirror_mode": {
    "name": "ipython",
    "version": 3
   },
   "file_extension": ".py",
   "mimetype": "text/x-python",
   "name": "python",
   "nbconvert_exporter": "python",
   "pygments_lexer": "ipython3",
   "version": "3.7.4"
  }
 },
 "nbformat": 4,
 "nbformat_minor": 2
}
