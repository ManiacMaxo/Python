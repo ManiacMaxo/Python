{
 "cells": [
  {
   "cell_type": "markdown",
   "metadata": {},
   "source": [
    "<h1>Nearest Neighbors machine learning algorithm</h1>"
   ]
  },
  {
   "cell_type": "code",
   "execution_count": 1,
   "metadata": {},
   "outputs": [],
   "source": [
    "import matplotlib.pyplot as plt\n",
    "import random\n",
    "from math import sqrt\n",
    "D = 2  # number of dimensions"
   ]
  },
  {
   "cell_type": "code",
   "execution_count": 2,
   "metadata": {},
   "outputs": [],
   "source": [
    "class Point:\n",
    "    def __init__(self, arr, tof):\n",
    "        self.coords = arr\n",
    "        self.bool = tof  # tof = true of false"
   ]
  },
  {
   "cell_type": "code",
   "execution_count": 3,
   "metadata": {},
   "outputs": [],
   "source": [
    "def euclidean_dist(D, p1, p2):\n",
    "    sum = 0\n",
    "    for i in range(D):\n",
    "        sum += (p2.coords[i] - p1.coords[i]) ** 2\n",
    "    return sqrt(sum)"
   ]
  },
  {
   "cell_type": "markdown",
   "metadata": {},
   "source": [
    "<h2>Calculate distance from one point to all others</h2>"
   ]
  },
  {
   "cell_type": "code",
   "execution_count": 4,
   "metadata": {},
   "outputs": [],
   "source": [
    "def distances(D, graph, new):\n",
    "    dist = {}\n",
    "    for i in range(len(graph)):\n",
    "        dist[i] = euclidean_dist(D, graph[i], new)\n",
    "\n",
    "    dist = sorted(dist.items(), key=lambda item: item[1])\n",
    "    return dist"
   ]
  },
  {
   "cell_type": "code",
   "execution_count": null,
   "metadata": {},
   "outputs": [],
   "source": [
    "def neighbors(distances, k):\n",
    "    for i in range(k):\n",
    "        return max(set(distances), key = distances.count)"
   ]
  },
  {
   "cell_type": "raw",
   "metadata": {},
   "source": [
    "# dimensions = int(input('dimensions: '))\n",
    "tof = [True, False]\n",
    "dataset = []\n",
    "for _ in range(10):\n",
    "    coords = []\n",
    "    for _ in range(D):  # x, y, z... n-dimensions\n",
    "        coords.append(random.uniform(1, 50))\n",
    "    dataset.append(Point(coords, tof[random.randint(0, 1)]))\n",
    "distances(D, dataset, Point((1, 2), False));"
   ]
  },
  {
   "cell_type": "code",
   "execution_count": 5,
   "metadata": {},
   "outputs": [],
   "source": [
    "x = []\n",
    "y = []\n",
    "for _ in range(100): \n",
    "    x.append(random.uniform(1,50))\n",
    "    y.append(random.uniform(1,50))"
   ]
  },
  {
   "cell_type": "code",
   "execution_count": 6,
   "metadata": {},
   "outputs": [
    {
     "data": {
      "image/png": "[encoded data removed]",
      "text/plain": [
       "<Figure size 432x288 with 1 Axes>"
      ]
     },
     "metadata": {
      "needs_background": "light"
     },
     "output_type": "display_data"
    }
   ],
   "source": [
    "plt.scatter(x, y);"
   ]
  }
 ],
 "metadata": {
  "kernelspec": {
   "display_name": "Python 3",
   "language": "python",
   "name": "python3"
  },
  "language_info": {
   "codemirror_mode": {
    "name": "ipython",
    "version": 3
   },
   "file_extension": ".py",
   "mimetype": "text/x-python",
   "name": "python",
   "nbconvert_exporter": "python",
   "pygments_lexer": "ipython3",
   "version": "3.7.4"
  }
 },
 "nbformat": 4,
 "nbformat_minor": 2
}
